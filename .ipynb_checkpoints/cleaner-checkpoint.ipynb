{
 "cells": [
  {
   "cell_type": "code",
   "execution_count": 16,
   "metadata": {},
   "outputs": [
    {
     "name": "stdout",
     "output_type": "stream",
     "text": [
      "[' ', 'Cover', 'Cover', 'Start', '1', '2', '3', '4', '5', '6', '7', ' ', '2. A Snake Charmers Story', 'I am Aryanath', 'I can do something special which', 'I am sure none of you can do!', 'Do you know what? I can play', 'the been! You must be surprised.', 'Yes, I can make snakes dance', 'by playing the been. I have learnt', 'this art from my family', 'members. We people are known', 'as Kalbeliyas.', 'My grandfather Roshan Nathji', 'was famous amongst our people.', 'He could easily catch many', 'poisonous snakes. He tells me', 'many stories about his past.', 'Come, listen to his story in his own', 'words', 'NAAG GUMPHAN', 'Designs of this kind are', 'used in rangoli,', 'embroidery and as wall', 'decoration in Saurashtra,', 'Gujarat and South India', 'Teachers Note : Talk to the children about their experiences related to snakes', 'before starting with this narrative. This would make the lesson more interesting.', 'A Snake Charmers Story', '15', ' ', 'Dadaji remembers', 'From the time of my grandfather and great grandfather, we', 'have always been saperas (snake-charmers). Snakes have', 'been an important part of our life. We used to move from', 'village to village carrying our snakes in bamboo baskets.', 'Whenever we stopped in a village, a', 'crowd would gather around us. We', 'would then take out our snakes from', 'our baskets.', 'Even after the show, people would', 'stay on. They knew that in our tinbox', 'there were many types of medicines', 'for them. We made these medicines', 'from plants collected from the forests.', 'I had learnt all this from my', 'grandfather. I felt nice that I could', 'help people with my medicines even', 'if doctors and hospitals were far off.', 'In return, people would give us some', 'money or foodgrains. In this way we', 'could manage our life.', 'Sometimes, I was called to places', 'where someone had been bitten by a snake. From the marks', 'of the bite I tried to find out which snake had bitten the person.', 'I would then give a medicine for that. But I have not always', 'been on time to help. As you know, some snake bites can', 'even cause death on the spot. But most of the snakes are', 'not poisonous.', 'Sometimes, when some farmers would come running for', 'help shouting snake, snake, I would catch that snake.', '16', 'Looking Around', ' ', 'After all, catching snakes was something I had been doing', 'since my childhood.', 'Oh, those were the good days. We could help a lot of people', 'in many ways. We also entertained them. It was not like today', 'when everyone watches TV for entertainment.', 'When I grew older, my father taught me how to remove their', 'poisonous teeth (fangs). He also taught me how to close the', 'tube of poison in the snakes mouth.', 'Think and tell', 'Have', 'you', 'ever', 'seen', 'anyone', 'playing', 'a', 'b', 'e', 'e', 'n', '?', 'Where?', 'Have', 'you', 'ever', 'seen', 'a', 'snake?', 'Where?', 'Were', 'you', 'scared', 'by', 'it?', 'Why?', 'Do', 'you', 'think', 'all', 'snakes', 'are', 'poisonous?', 'In', 'chapter', '1', 'you', 'read', 'that', 'snakes', 'do', 'not', 'have', 'ears', 'which you can see. Can the snake hear the been or', 'does it dance when the been moves? What do you think?', 'What can we do', 'Aryanath! your father used to travel with me ever since he was', 'a young child. He learnt to play the been without being taught.', 'These days it is diffcult. Now the government has made a', 'law that no one can catch wild animals and keep them. Some', 'people kill the animals and sell their skins at high prices. So', 'they made a law against this. Now, with this law, how will we', 'earn our livelihood? We people have never killed snakes, and', 'sold their skin. People say that we keep the snakes in bad', 'Teachers Note : If possible, explain about poisonous fangs, ducts and their', 'removal by showing visual aids.', 'A Snake Charmers Story', '17', ' ', 'Musical instruments used in been party', 'Been, tumba, khanjiri and dhol. Except dhol all', 'the other three instruments are made from dried', 'gourd (lauki)', 'conditions. If we wanted, we too could have earned a lot of', 'money by killing snakes. But we would never do that. Snakes', 'are our treasure, that we pass on from one generation to', 'another. We even gift snakes to our daughters when they get', 'married. In our Kalbelia dance we also have movements similar', 'to the dance of the snake.', 'Aryanath, you will have to', 'make a different life for', 'yourself. You have got your', 'fathers gift of playing the', 'been. You and your', 'cousins can form a been', 'party and entertain people.', 'But do not waste this', 'knowledge about snakes', 'you have got from your', 'elders.', 'Share your knowledge', 'about snakes with children', 'who live in', 'towns and cities. Tell them, that they should', 'not be scared of snakes. Help them to recognise', 'poisonous snakes.', 'Tell them how snakes are friends of the', 'farmers. They eat the rats in the fields, otherwise', 'rats would eat the crops.', 'Now you tell our story. Also make a new story', 'of your life, to tell your grandchildren.', 'Kalbeliya dance', 'Teachers Note : This narrative focuses on the relationship and interdependence', 'between snake-charmers and snakes. By talking about more such communities', 'it can be clarified that most of them do not treat animals badly (which is a common', 'perception). We should also not hurt/tease animals.', '18', 'Looking Around', 'Pankaj Gorana', 'Mani Babbar', ' ', 'Write', 'Have', 'you', 'ever', 'seen', 'animals', 'being', 'used', 'for', 'entertainment', 'of people? (For example, in a circus, on the road, or in a', 'park)', ' When and where did you see this?', ' Which animal show did you see?', 'How', 'did', 'people', 'behave', 'with', 'the', 'animals', 'in', 'the', 'show?', 'Was', 'anyone', 'teasing', 'the', 'animals?', 'How?', 'What', 'kind', 'of', 'questions', 'came', 'to', 'your', 'mind', 'after', 'seeing', 'that animal show?', 'Imagine that you are an animal in a cage. Think how you', 'would feel. Complete the following sentences :', 'I', 'am', 'afraid', 'when', 'I', 'wish', 'I', 'I', 'am', 'sad', 'when', 'If', 'I', 'had', 'a', 'chance', 'I', 'would', 'I', 'do', 'not', 'like', 'it', 'at', 'all', 'when', 'A Snake Charmers Story', '19', ' ', 'Do you know?', 'Of the many kinds of snakes found in our country,', 'only four types of snakes are poisonous. They are:', 'Cobra, Common Krait, Russels Viper (Duboiya),', 'Saw-scaled Viper (Afai).', 'Cobra', 'A snake has two hollow teeth (fangs). When it bites,', \"the poison enters the person's body through the\", 'fangs. There is a medicine for snake bites.', \"The medicine is made from the snake's poison and\", 'is available in all government hospitals.', 'Krait', 'Afai', 'Duboiya', 'Write', 'Like', 'snake-charmers,', 'which', 'other', 'people', 'depend', 'on', 'animals for their livelihood?', 'SurveyPeople who keep animals', 'Talk to some people in your neighbourhood who keep one', 'or more animals for their livelihoodfor example, a horse for', 'a tonga, hens for eggs, etc.', 'Name', 'the', 'animal', 'they', 'keep?', 'How', 'many', 'animals', 'are', 'there?', 'Is', 'there', 'a', 'separate', 'place', 'for', 'the', 'animals?', 'Teachers Note : Make crossword Puzzles on animals and ask them to collect', 'more details of these animals and discuss.', '20', 'Looking Around', ' ', 'Who', 'looks', 'after', 'them?', 'What', 'do', 'the', 'animals', 'eat?', 'Do', 'the', 'animals', 'ever', 'fall', 'ill?', 'What', 'does', 'the', 'keeper', 'do', 'then?', 'Make', 'some', 'more', 'questions', 'and', 'discuss.', 'Make', 'a', 'report', 'on', 'your', 'project', 'and', 'read', 'it', 'out', 'in', 'the', 'class.', 'Make a snake puppet', 'Take', 'an', 'old', 'pair', 'of', 'socks.', 'Put', 'one', 'on', 'your', 'arm.', 'Stick', 'buttons', 'or', 'bindis', 'for', 'the eyes.', 'Cut', 'out', 'a', 'long', 'red', 'strip', 'of', 'paper for using as the tongue', 'and stick it in the place as', 'shown.', 'On', 'the', 'other', 'side', 'of', 'the', 'paper', 'make a V shaped cut.', 'Your', 'snake', 'is', 'ready!', 'What we have learnt', 'The government has made a law that no one can', 'catch and keep snakes. What do you think about', 'this law? Give reasons for your answer and write in', 'your own words.', 'Now you can play', 'with this puppet!', 'A Snake Charmers Story', '21']\n"
     ]
    }
   ],
   "source": [
    "import os\n",
    "directory=\"biology_data\"\n",
    "filename=\"eeap102.txt\"\n",
    "\n",
    "os.system(\"iconv -c -f utf-8 -t ascii \"+directory+\"/\"+filename+\" > \"+directory+\"/\"+\"clean-\"+filename)\n",
    "\n",
    "\n",
    "with open(directory+\"/\"+\"clean-\"+filename) as f:\n",
    "    data=f.read().splitlines() \n",
    "data = list(filter(None, data))\n",
    "print(data)"
   ]
  },
  {
   "cell_type": "code",
   "execution_count": 17,
   "metadata": {},
   "outputs": [],
   "source": [
    "termination_punctuation=['?','.','!']\n",
    "\n",
    "def add_space(temp,i):\n",
    "    #print(temp,i)\n",
    "    if not temp.endswith(\" \") and not i.startswith(\" \"):\n",
    "        if temp != \" \":\n",
    "            return temp+\" \"+i\n",
    "        else:\n",
    "            return i\n",
    "    else:\n",
    "        if temp != \" \":\n",
    "            return temp+i\n",
    "        else:\n",
    "            return i\n",
    "        "
   ]
  },
  {
   "cell_type": "code",
   "execution_count": 18,
   "metadata": {},
   "outputs": [],
   "source": [
    "sentences=[]\n",
    "temp=str(data[0])\n",
    "for i in data[1::]:\n",
    "    #print(\"end\",i)\n",
    "    if i[-1] in termination_punctuation:\n",
    "        #print(\"select\",i)\n",
    "        temp=add_space(temp,i)\n",
    "        sentences.append(temp)\n",
    "        temp=\"\"\n",
    "        '''\n",
    "    elif i[0].isupper() and i!=' ':\n",
    "        print(temp,\"end\",i)\n",
    "        sentences.append(temp)\n",
    "        temp=i\n",
    "        '''\n",
    "    else:\n",
    "        temp=add_space(temp,i)"
   ]
  },
  {
   "cell_type": "code",
   "execution_count": 19,
   "metadata": {},
   "outputs": [
    {
     "name": "stdout",
     "output_type": "stream",
     "text": [
      "0 Cover Cover Start 1 2 3 4 5 6 7 2. A Snake Charmers Story I am Aryanath I can do something special which I am sure none of you can do!\n",
      "1  Do you know what? I can play the been! You must be surprised.\n",
      "2  Yes, I can make snakes dance by playing the been. I have learnt this art from my family members. We people are known as Kalbeliyas.\n",
      "3  My grandfather Roshan Nathji was famous amongst our people.\n",
      "4  He could easily catch many poisonous snakes. He tells me many stories about his past.\n",
      "5  Come, listen to his story in his own words NAAG GUMPHAN Designs of this kind are used in rangoli, embroidery and as wall decoration in Saurashtra, Gujarat and South India Teachers Note : Talk to the children about their experiences related to snakes before starting with this narrative. This would make the lesson more interesting.\n",
      "6  A Snake Charmers Story 15 Dadaji remembers From the time of my grandfather and great grandfather, we have always been saperas (snake-charmers). Snakes have been an important part of our life. We used to move from village to village carrying our snakes in bamboo baskets.\n",
      "7  Whenever we stopped in a village, a crowd would gather around us. We would then take out our snakes from our baskets.\n",
      "8  Even after the show, people would stay on. They knew that in our tinbox there were many types of medicines for them. We made these medicines from plants collected from the forests.\n",
      "9  I had learnt all this from my grandfather. I felt nice that I could help people with my medicines even if doctors and hospitals were far off.\n",
      "10  In return, people would give us some money or foodgrains. In this way we could manage our life.\n",
      "11  Sometimes, I was called to places where someone had been bitten by a snake. From the marks of the bite I tried to find out which snake had bitten the person.\n",
      "12  I would then give a medicine for that. But I have not always been on time to help. As you know, some snake bites can even cause death on the spot. But most of the snakes are not poisonous.\n",
      "13  Sometimes, when some farmers would come running for help shouting snake, snake, I would catch that snake.\n",
      "14  16 Looking Around After all, catching snakes was something I had been doing since my childhood.\n",
      "15  Oh, those were the good days. We could help a lot of people in many ways. We also entertained them. It was not like today when everyone watches TV for entertainment.\n",
      "16  When I grew older, my father taught me how to remove their poisonous teeth (fangs). He also taught me how to close the tube of poison in the snakes mouth.\n",
      "17  Think and tell Have you ever seen anyone playing a b e e n ?\n",
      "18  Where?\n",
      "19  Have you ever seen a snake?\n",
      "20  Where?\n",
      "21  Were you scared by it?\n",
      "22  Why?\n",
      "23  Do you think all snakes are poisonous?\n",
      "24  In chapter 1 you read that snakes do not have ears which you can see. Can the snake hear the been or does it dance when the been moves? What do you think?\n",
      "25  What can we do Aryanath! your father used to travel with me ever since he was a young child. He learnt to play the been without being taught.\n",
      "26  These days it is diffcult. Now the government has made a law that no one can catch wild animals and keep them. Some people kill the animals and sell their skins at high prices. So they made a law against this. Now, with this law, how will we earn our livelihood? We people have never killed snakes, and sold their skin. People say that we keep the snakes in bad Teachers Note : If possible, explain about poisonous fangs, ducts and their removal by showing visual aids.\n",
      "27  A Snake Charmers Story 17 Musical instruments used in been party Been, tumba, khanjiri and dhol. Except dhol all the other three instruments are made from dried gourd (lauki) conditions. If we wanted, we too could have earned a lot of money by killing snakes. But we would never do that. Snakes are our treasure, that we pass on from one generation to another. We even gift snakes to our daughters when they get married. In our Kalbelia dance we also have movements similar to the dance of the snake.\n",
      "28  Aryanath, you will have to make a different life for yourself. You have got your fathers gift of playing the been. You and your cousins can form a been party and entertain people.\n",
      "29  But do not waste this knowledge about snakes you have got from your elders.\n",
      "30  Share your knowledge about snakes with children who live in towns and cities. Tell them, that they should not be scared of snakes. Help them to recognise poisonous snakes.\n",
      "31  Tell them how snakes are friends of the farmers. They eat the rats in the fields, otherwise rats would eat the crops.\n",
      "32  Now you tell our story. Also make a new story of your life, to tell your grandchildren.\n",
      "33  Kalbeliya dance Teachers Note : This narrative focuses on the relationship and interdependence between snake-charmers and snakes. By talking about more such communities it can be clarified that most of them do not treat animals badly (which is a common perception). We should also not hurt/tease animals.\n",
      "34  18 Looking Around Pankaj Gorana Mani Babbar Write Have you ever seen animals being used for entertainment of people? (For example, in a circus, on the road, or in a park) When and where did you see this?\n",
      "35  Which animal show did you see?\n",
      "36  How did people behave with the animals in the show?\n",
      "37  Was anyone teasing the animals?\n",
      "38  How?\n",
      "39  What kind of questions came to your mind after seeing that animal show?\n",
      "40  Imagine that you are an animal in a cage. Think how you would feel. Complete the following sentences : I am afraid when I wish I I am sad when If I had a chance I would I do not like it at all when A Snake Charmers Story 19 Do you know?\n",
      "41  Of the many kinds of snakes found in our country, only four types of snakes are poisonous. They are: Cobra, Common Krait, Russels Viper (Duboiya), Saw-scaled Viper (Afai).\n",
      "42  Cobra A snake has two hollow teeth (fangs). When it bites, the poison enters the person's body through the fangs. There is a medicine for snake bites.\n",
      "43  The medicine is made from the snake's poison and is available in all government hospitals.\n",
      "44  Krait Afai Duboiya Write Like snake-charmers, which other people depend on animals for their livelihood?\n",
      "45  SurveyPeople who keep animals Talk to some people in your neighbourhood who keep one or more animals for their livelihoodfor example, a horse for a tonga, hens for eggs, etc.\n",
      "46  Name the animal they keep?\n",
      "47  How many animals are there?\n",
      "48  Is there a separate place for the animals?\n",
      "49  Teachers Note : Make crossword Puzzles on animals and ask them to collect more details of these animals and discuss.\n",
      "50  20 Looking Around Who looks after them?\n",
      "51  What do the animals eat?\n",
      "52  Do the animals ever fall ill?\n",
      "53  What does the keeper do then?\n",
      "54  Make some more questions and discuss.\n",
      "55  Make a report on your project and read it out in the class.\n",
      "56  Make a snake puppet Take an old pair of socks.\n",
      "57  Put one on your arm.\n",
      "58  Stick buttons or bindis for the eyes.\n",
      "59  Cut out a long red strip of paper for using as the tongue and stick it in the place as shown.\n",
      "60  On the other side of the paper make a V shaped cut.\n",
      "61  Your snake is ready!\n",
      "62  What we have learnt The government has made a law that no one can catch and keep snakes. What do you think about this law? Give reasons for your answer and write in your own words.\n",
      "63  Now you can play with this puppet!\n"
     ]
    }
   ],
   "source": [
    "for i,j in enumerate(sentences):\n",
    "    print(i,j)"
   ]
  }
 ],
 "metadata": {
  "kernelspec": {
   "display_name": "Python 3",
   "language": "python",
   "name": "python3"
  },
  "language_info": {
   "codemirror_mode": {
    "name": "ipython",
    "version": 3
   },
   "file_extension": ".py",
   "mimetype": "text/x-python",
   "name": "python",
   "nbconvert_exporter": "python",
   "pygments_lexer": "ipython3",
   "version": "3.6.8"
  }
 },
 "nbformat": 4,
 "nbformat_minor": 2
}
